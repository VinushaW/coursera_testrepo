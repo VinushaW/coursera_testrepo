{
 "cells": [
  {
   "cell_type": "markdown",
   "id": "d9c75ff1-3cf7-46ad-8f0d-b41f9af13081",
   "metadata": {},
   "source": [
    "# Data Science Tools and Ecosystem"
   ]
  },
  {
   "cell_type": "markdown",
   "id": "ba19fe65-403b-44f8-9127-4184b0930365",
   "metadata": {},
   "source": [
    "In this notebook, Data Science Tools and Ecosystem are summarized."
   ]
  },
  {
   "cell_type": "markdown",
   "id": "acaa6fb2-024c-4c81-8cef-16685e2313a8",
   "metadata": {},
   "source": [
    "**Objectives:**\n",
    "* To identify some of the popular languages that Data Scientists\n",
    "* To name some of the commonly used libraries used by Data Scientists \n",
    "* To create a table in Jupyter notebook"
   ]
  },
  {
   "cell_type": "markdown",
   "id": "8d6d1b7f-709d-4fbf-87ba-c0f8d4e79bce",
   "metadata": {},
   "source": [
    "Some of the popular languages that Data Scientists use are:\n",
    "1. Python\n",
    "2. R\n",
    "3. Scala"
   ]
  },
  {
   "cell_type": "markdown",
   "id": "a7092424-ae77-469e-bea8-1c5c2ad3b434",
   "metadata": {},
   "source": [
    "Some of the commonly used libraries used by Data Scientists include:\n",
    "1. SciPy\n",
    "2. NumPy\n",
    "3. Pandas"
   ]
  },
  {
   "cell_type": "markdown",
   "id": "fc7cd9a5-7150-4bb3-be8d-d7d1b78ef751",
   "metadata": {},
   "source": [
    "| Data Science Tools|\n",
    "|---------------------|\n",
    "| Jupyter-notebook|\n",
    "| Jupyter lab|\n",
    "| Anakonda|"
   ]
  },
  {
   "cell_type": "markdown",
   "id": "c30d3ad6-1adb-4ca2-97f5-b2abf70015f3",
   "metadata": {},
   "source": [
    "### Below are a few examples of evaluating arithmetic expressions in Python"
   ]
  },
  {
   "cell_type": "code",
   "execution_count": 1,
   "id": "bcaa7eb1-6ad2-421c-aea1-217802fcf919",
   "metadata": {
    "tags": []
   },
   "outputs": [
    {
     "data": {
      "text/plain": [
       "17"
      ]
     },
     "execution_count": 1,
     "metadata": {},
     "output_type": "execute_result"
    }
   ],
   "source": [
    "# This a simple arithmetic expression to mutiply then add integers\n",
    "(3*4)+5"
   ]
  },
  {
   "cell_type": "code",
   "execution_count": 2,
   "id": "ed20a7d4-d438-47ab-973e-286b15ce7c3d",
   "metadata": {
    "tags": []
   },
   "outputs": [
    {
     "data": {
      "text/plain": [
       "3.3333333333333335"
      ]
     },
     "execution_count": 2,
     "metadata": {},
     "output_type": "execute_result"
    }
   ],
   "source": [
    "# This will convert 200 minutes to hours by diving by 60\n",
    "200/60"
   ]
  },
  {
   "cell_type": "markdown",
   "id": "2063a793-192f-47aa-a3c1-76d834ec7054",
   "metadata": {
    "tags": []
   },
   "source": [
    "## Author\n",
    "P. A. D. B. V. Wickramasinghe"
   ]
  },
  {
   "cell_type": "code",
   "execution_count": null,
   "id": "979dfdf6-74da-4a69-9e34-99afa059b557",
   "metadata": {},
   "outputs": [],
   "source": []
  }
 ],
 "metadata": {
  "kernelspec": {
   "display_name": "Python",
   "language": "python",
   "name": "conda-env-python-py"
  },
  "language_info": {
   "codemirror_mode": {
    "name": "ipython",
    "version": 3
   },
   "file_extension": ".py",
   "mimetype": "text/x-python",
   "name": "python",
   "nbconvert_exporter": "python",
   "pygments_lexer": "ipython3",
   "version": "3.7.12"
  }
 },
 "nbformat": 4,
 "nbformat_minor": 5
}
